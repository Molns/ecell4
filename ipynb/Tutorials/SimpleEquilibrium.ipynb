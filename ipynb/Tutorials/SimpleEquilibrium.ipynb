{
 "metadata": {
  "name": "",
  "signature": "sha256:420f8f11c21d5771ae8fcf5418d4ee044c84c8b7329e967cfe037c102bf21ddb"
 },
 "nbformat": 3,
 "nbformat_minor": 0,
 "worksheets": [
  {
   "cells": [
    {
     "cell_type": "markdown",
     "metadata": {},
     "source": [
      "# Tutorial 5 (Example 1)\n",
      "\n",
      "## Requirements\n",
      "- matplotlib\n",
      "\n",
      "This is a tutorial for E-Cell4. Here, we show a simple equilibrium model as an example."
     ]
    },
    {
     "cell_type": "code",
     "collapsed": false,
     "input": [
      "%matplotlib inline"
     ],
     "language": "python",
     "metadata": {},
     "outputs": [],
     "prompt_number": 2
    },
    {
     "cell_type": "code",
     "collapsed": true,
     "input": [
      "from ecell4.core import *\n",
      "# from ecell4.gillespie import GillespieWorld as world_type, GillespieSimulator as simulator_type\n",
      "# from ecell4.ode import ODEWorld as world_type, ODESimulator as simulator_type\n",
      "# from ecell4.lattice import LatticeWorld as world_type, LatticeSimulator as simulator_type\n",
      "# from ecell4.bd import BDWorld as world_type, BDSimulator as simulator_type\n",
      "# from ecell4.meso import MesoscopicWorld as world_type, MesoscopicSimulator as simulator_type\n",
      "from ecell4.egfrd import EGFRDWorld as world_type, EGFRDSimulator as simulator_type"
     ],
     "language": "python",
     "metadata": {},
     "outputs": [],
     "prompt_number": 3
    },
    {
     "cell_type": "markdown",
     "metadata": {},
     "source": [
      "Set up parameters:"
     ]
    },
    {
     "cell_type": "code",
     "collapsed": true,
     "input": [
      "L, N, kd, U, D, radius = 1.0, 60, 0.1, 0.5, \"1\", \"0.01\"\n",
      "volume = L * L * L\n",
      "ka = kd * volume * (1 - U) / (U * U * N)\n",
      "\n",
      "sp1, sp2, sp3 = Species(\"A\", radius, D), Species(\"B\", radius, D), Species(\"A_B\", radius, D)\n",
      "rr1, rr2 = create_binding_reaction_rule(sp1, sp2, sp3, ka), create_unbinding_reaction_rule(sp3, sp1, sp2, kd)"
     ],
     "language": "python",
     "metadata": {},
     "outputs": [],
     "prompt_number": 4
    },
    {
     "cell_type": "markdown",
     "metadata": {},
     "source": [
      "Create a model:"
     ]
    },
    {
     "cell_type": "code",
     "collapsed": true,
     "input": [
      "m = NetworkModel()\n",
      "m.add_species_attribute(sp1)\n",
      "m.add_species_attribute(sp2)\n",
      "m.add_species_attribute(sp3)\n",
      "m.add_reaction_rule(rr1)\n",
      "m.add_reaction_rule(rr2)"
     ],
     "language": "python",
     "metadata": {},
     "outputs": [],
     "prompt_number": 5
    },
    {
     "cell_type": "markdown",
     "metadata": {},
     "source": [
      "Create a world and simulator:"
     ]
    },
    {
     "cell_type": "code",
     "collapsed": true,
     "input": [
      "w = world_type(Real3(L, L, L))\n",
      "w.bind_to(m)\n",
      "w.add_molecules(Species(\"A\"), N)\n",
      "w.add_molecules(Species(\"B\"), N)\n",
      "\n",
      "sim = simulator_type(m, w)\n",
      "sim.set_dt(1e-3) #XXX: This is too large to get the accurate result with BDSimulator."
     ],
     "language": "python",
     "metadata": {},
     "outputs": [],
     "prompt_number": 6
    },
    {
     "cell_type": "markdown",
     "metadata": {},
     "source": [
      "Run a simulation:"
     ]
    },
    {
     "cell_type": "code",
     "collapsed": true,
     "input": [
      "next_time, dt = 0.0, 0.05\n",
      "data = [(w.t(), w.num_molecules(sp1), w.num_molecules(sp2), w.num_molecules(sp3))]\n",
      "for i in range(100):\n",
      "    next_time += dt\n",
      "    while (sim.step(next_time)): pass\n",
      "    data.append((w.t(), w.num_molecules(sp1), w.num_molecules(sp2), w.num_molecules(sp3)))"
     ],
     "language": "python",
     "metadata": {},
     "outputs": [],
     "prompt_number": 7
    },
    {
     "cell_type": "markdown",
     "metadata": {},
     "source": [
      "Plot with Matplotlib:"
     ]
    },
    {
     "cell_type": "code",
     "collapsed": false,
     "input": [
      "import matplotlib.pylab as plt\n",
      "from numpy import array\n",
      "\n",
      "data = array(data)\n",
      "plt.plot(data.T[0], data.T[1], \"r-\", label=sp1.serial())\n",
      "plt.plot(data.T[0], data.T[2], \"g--\", label=sp2.serial())\n",
      "plt.plot(data.T[0], data.T[3], \"b:\", label=sp3.serial())\n",
      "plt.xlabel(\"Time\")\n",
      "plt.ylabel(\"Number Of Molecules\")\n",
      "plt.xlim(data.T[0][0], data.T[0][-1])\n",
      "plt.legend(loc=\"best\", shadow=True)\n",
      "plt.show()"
     ],
     "language": "python",
     "metadata": {},
     "outputs": [
      {
       "metadata": {},
       "output_type": "display_data",
       "png": "[encoded data removed]",
       "text": [
        "<matplotlib.figure.Figure at 0x7f5367aa7110>"
       ]
      }
     ],
     "prompt_number": 8
    }
   ],
   "metadata": {}
  }
 ]
}