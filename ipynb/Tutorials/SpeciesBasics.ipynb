{
 "metadata": {
  "name": "",
  "signature": "sha256:45fc9c2505b462118acf619bb097963ed74a853bac84683ad6d30492eef1a70b"
 },
 "nbformat": 3,
 "nbformat_minor": 0,
 "worksheets": [
  {
   "cells": [
    {
     "cell_type": "markdown",
     "metadata": {},
     "source": [
      "# Tutorial 1 (Species Basics)\n",
      "\n",
      "This is a tutorial for E-Cell4. Here, we introduce how to use Species."
     ]
    },
    {
     "cell_type": "markdown",
     "metadata": {},
     "source": [
      "Import the core library, first:"
     ]
    },
    {
     "cell_type": "code",
     "collapsed": false,
     "input": [
      "from ecell4.core import *"
     ],
     "language": "python",
     "metadata": {},
     "outputs": [],
     "prompt_number": 1
    },
    {
     "cell_type": "markdown",
     "metadata": {},
     "source": [
      "This enables Species class."
     ]
    },
    {
     "cell_type": "code",
     "collapsed": false,
     "input": [
      "print Species(\"A\") == Species(\"B\"), Species(\"A\") == Species(\"A\")"
     ],
     "language": "python",
     "metadata": {},
     "outputs": [
      {
       "output_type": "stream",
       "stream": "stdout",
       "text": [
        "False True\n"
       ]
      }
     ],
     "prompt_number": 2
    },
    {
     "cell_type": "markdown",
     "metadata": {},
     "source": [
      "A Species can be translated into an unique string, named \"serial\":"
     ]
    },
    {
     "cell_type": "code",
     "collapsed": false,
     "input": [
      "print Species(\"A\").serial(), Species(\"B\").serial()"
     ],
     "language": "python",
     "metadata": {},
     "outputs": [
      {
       "output_type": "stream",
       "stream": "stdout",
       "text": [
        "A B\n"
       ]
      }
     ],
     "prompt_number": 3
    },
    {
     "cell_type": "markdown",
     "metadata": {},
     "source": [
      "A Species can have attributes as a pair of strings."
     ]
    },
    {
     "cell_type": "code",
     "collapsed": false,
     "input": [
      "sp = Species(\"A\")\n",
      "sp.set_attribute(\"radius\", \"0.0025\")\n",
      "sp.set_attribute(\"D\", \"1.0\")\n",
      "print sp.has_attribute(\"radius\"), sp.has_attribute(\"spam\")\n",
      "print sp.get_attribute(\"radius\"), sp.get_attribute(\"D\")\n",
      "sp.remove_attribute(\"radius\")\n",
      "print sp.has_attribute(\"radius\")\n",
      "del sp"
     ],
     "language": "python",
     "metadata": {},
     "outputs": [
      {
       "output_type": "stream",
       "stream": "stdout",
       "text": [
        "True False\n",
        "0.0025 1.0\n",
        "False\n"
       ]
      }
     ],
     "prompt_number": 4
    },
    {
     "cell_type": "markdown",
     "metadata": {},
     "source": [
      "Tips: Especially for \"radius\" and \"D\", A Species accepts these attributes at the instantiation:"
     ]
    },
    {
     "cell_type": "code",
     "collapsed": false,
     "input": [
      "sp = Species(\"A\", \"0.0025\", \"1\")\n",
      "print sp.get_attribute(\"radius\"), sp.get_attribute(\"D\")\n",
      "del sp"
     ],
     "language": "python",
     "metadata": {},
     "outputs": [
      {
       "output_type": "stream",
       "stream": "stdout",
       "text": [
        "0.0025 1\n"
       ]
      }
     ],
     "prompt_number": 5
    },
    {
     "cell_type": "markdown",
     "metadata": {},
     "source": [
      "A Species consists of one or more UnitSpecies."
     ]
    },
    {
     "cell_type": "code",
     "collapsed": false,
     "input": [
      "sp = Species()\n",
      "usp = UnitSpecies(\"C\")\n",
      "print usp.serial()\n",
      "sp.add_unit(usp)\n",
      "sp.add_unit(UnitSpecies(\"A\"))\n",
      "sp.add_unit(UnitSpecies(\"B\"))\n",
      "print sp.serial(), sp.num_units()\n",
      "del usp, sp"
     ],
     "language": "python",
     "metadata": {},
     "outputs": [
      {
       "output_type": "stream",
       "stream": "stdout",
       "text": [
        "C\n",
        "C.A.B 3\n"
       ]
      }
     ],
     "prompt_number": 6
    },
    {
     "cell_type": "markdown",
     "metadata": {},
     "source": [
      "A Species can be reproduced from serial. In the serial, all serials of UnitSpecies are joined with the separator, \".\". The comparison between Species matters the oder of UnitSpecies in each Species."
     ]
    },
    {
     "cell_type": "code",
     "collapsed": false,
     "input": [
      "sp = Species(\"C.A.B\")\n",
      "print sp.serial()\n",
      "print Species(\"A.B.C\") == Species(\"C.A.B\")\n",
      "print Species(\"A.B.C\") == Species(\"A.B.C\")\n",
      "del sp"
     ],
     "language": "python",
     "metadata": {},
     "outputs": [
      {
       "output_type": "stream",
       "stream": "stdout",
       "text": [
        "C.A.B\n",
        "False\n",
        "True\n"
       ]
      }
     ],
     "prompt_number": 7
    },
    {
     "cell_type": "markdown",
     "metadata": {},
     "source": [
      "An UnitSpecies can have sites. Sites are sorted automatically in the UnitSpecies. Sites are given as a triplet of a **name**, **state** and **bond**."
     ]
    },
    {
     "cell_type": "code",
     "collapsed": false,
     "input": [
      "usp = UnitSpecies(\"A\")\n",
      "usp.add_site(\"us\", \"u\", \"\")\n",
      "usp.add_site(\"ps\", \"p\", \"_\")\n",
      "usp.add_site(\"bs\", \"\", \"_\")\n",
      "print usp.name(), usp.serial()\n",
      "del usp"
     ],
     "language": "python",
     "metadata": {},
     "outputs": [
      {
       "output_type": "stream",
       "stream": "stdout",
       "text": [
        "A A(bs^_,ps=p^_,us=u)\n"
       ]
      }
     ],
     "prompt_number": 8
    },
    {
     "cell_type": "markdown",
     "metadata": {},
     "source": [
      "An UnitSpecies can be reproduced from its serial. Please be careful with the order of sites where sites with a state must be placed after sites with no state specification."
     ]
    },
    {
     "cell_type": "code",
     "collapsed": false,
     "input": [
      "usp = UnitSpecies()\n",
      "usp.deserialize(\"A(bs^_, us=u, ps=p^_)\")\n",
      "print usp.serial()\n",
      "del usp"
     ],
     "language": "python",
     "metadata": {},
     "outputs": [
      {
       "output_type": "stream",
       "stream": "stdout",
       "text": [
        "A(bs^_,ps=p^_,us=u)\n"
       ]
      }
     ],
     "prompt_number": 9
    },
    {
     "cell_type": "markdown",
     "metadata": {},
     "source": [
      "Of course, a site of UnitSpecies is available even in a Species' serial."
     ]
    },
    {
     "cell_type": "code",
     "collapsed": false,
     "input": [
      "sp = Species(\"A(bs^1, ps=u).A(bs, ps=p^1)\")\n",
      "print sp.serial(), sp.num_units()\n",
      "del sp"
     ],
     "language": "python",
     "metadata": {},
     "outputs": [
      {
       "output_type": "stream",
       "stream": "stdout",
       "text": [
        "A(bs^1,ps=u).A(bs,ps=p^1) 2\n"
       ]
      }
     ],
     "prompt_number": 10
    },
    {
     "cell_type": "code",
     "collapsed": false,
     "input": [],
     "language": "python",
     "metadata": {},
     "outputs": [],
     "prompt_number": 10
    }
   ],
   "metadata": {}
  }
 ]
}