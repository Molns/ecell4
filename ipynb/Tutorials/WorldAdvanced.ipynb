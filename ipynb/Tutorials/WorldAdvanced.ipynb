{
 "metadata": {
  "name": ""
 },
 "nbformat": 3,
 "nbformat_minor": 0,
 "worksheets": [
  {
   "cells": [
    {
     "cell_type": "markdown",
     "metadata": {},
     "source": [
      "# Tutorial 6 (World Advanced)\n",
      "\n",
      "This is a tutorial for E-Cell4."
     ]
    },
    {
     "cell_type": "code",
     "collapsed": false,
     "input": [
      "from ecell4.core import *\n",
      "from ecell4.gillespie import GillespieWorld\n",
      "from ecell4.ode import ODEWorld\n",
      "from ecell4.lattice import LatticeWorld\n",
      "from ecell4.bd import BDWorld\n",
      "\n",
      "edge_lengths = Real3(1, 2, 3)"
     ],
     "language": "python",
     "metadata": {},
     "outputs": [],
     "prompt_number": 1
    },
    {
     "cell_type": "code",
     "collapsed": false,
     "input": [
      "m = NetworkModel()\n",
      "m.add_species_attribute(Species(\"A\", \"0.0025\", \"1\"))"
     ],
     "language": "python",
     "metadata": {},
     "outputs": [],
     "prompt_number": 2
    },
    {
     "cell_type": "markdown",
     "metadata": {},
     "source": [
      "`ParticleSpace` interfaces:"
     ]
    },
    {
     "cell_type": "code",
     "collapsed": false,
     "input": [
      "w = BDWorld(edge_lengths)\n",
      "# w = LatticeWorld(edge_lengths)\n",
      "w.bind_to(m)"
     ],
     "language": "python",
     "metadata": {},
     "outputs": [],
     "prompt_number": 3
    },
    {
     "cell_type": "markdown",
     "metadata": {},
     "source": [
      "Create a new particle. `new_particle` returns a pair of `ParticleID` and `Particle` with if the creation is succeeded or not."
     ]
    },
    {
     "cell_type": "code",
     "collapsed": false,
     "input": [
      "((pid, p), is_succeeded) = w.new_particle(Species(\"A\"), Real3(0.5, 0.5, 0.5))"
     ],
     "language": "python",
     "metadata": {},
     "outputs": [],
     "prompt_number": 4
    },
    {
     "cell_type": "code",
     "collapsed": false,
     "input": [
      "print pid, p, is_succeeded\n",
      "print w.num_molecules(Species(\"A\"))"
     ],
     "language": "python",
     "metadata": {},
     "outputs": [
      {
       "output_type": "stream",
       "stream": "stdout",
       "text": [
        "<ecell4.core.ParticleID object at 0x7fd889a0c9a8> <ecell4.core.Particle object at 0x7fd889a0c9f0> True\n",
        "1\n"
       ]
      }
     ],
     "prompt_number": 5
    },
    {
     "cell_type": "markdown",
     "metadata": {},
     "source": [
      "`ParticleID` is a pair of `Integer`s named `serial` and `lot`. `Particle` consists of `species`, `position`, `radius`, `D`."
     ]
    },
    {
     "cell_type": "code",
     "collapsed": false,
     "input": [
      "print pid.serial(), pid.lot()\n",
      "print p.species().serial(), tuple(p.position()), p.radius(), p.D()"
     ],
     "language": "python",
     "metadata": {},
     "outputs": [
      {
       "output_type": "stream",
       "stream": "stdout",
       "text": [
        "1 0\n",
        "A (0.5, 0.5, 0.5) 0.0025 1.0\n"
       ]
      }
     ],
     "prompt_number": 6
    },
    {
     "cell_type": "markdown",
     "metadata": {},
     "source": [
      "`ParticleSpace` has interfaces to check if the `ParticleID` exists (`has_particle`), to list all particles belonging to the `Species` (`list_particles`), and to get `Particle` assigned to the given `ParticleID` (`get_particle`)."
     ]
    },
    {
     "cell_type": "code",
     "collapsed": false,
     "input": [
      "print w.has_particle(pid)\n",
      "print w.list_particles(Species(\"A\"))\n",
      "print w.get_particle(pid)"
     ],
     "language": "python",
     "metadata": {},
     "outputs": [
      {
       "output_type": "stream",
       "stream": "stdout",
       "text": [
        "True\n",
        "[(<ecell4.core.ParticleID object at 0x7fd889a0c9c0>, <ecell4.core.Particle object at 0x7fd889a0ca20>)]\n",
        "(<ecell4.core.ParticleID object at 0x7fd889a0c9c0>, <ecell4.core.Particle object at 0x7fd889a0c990>)\n"
       ]
      }
     ],
     "prompt_number": 7
    },
    {
     "cell_type": "markdown",
     "metadata": {},
     "source": [
      "To move a `Particle` to the new position, use `update_particle`. `update_particle` tries to replace the `Particle` with given one."
     ]
    },
    {
     "cell_type": "code",
     "collapsed": false,
     "input": [
      "w.update_particle(pid, Particle(p.species(), Real3(0.5, 1.5, 2.5), p.radius(), p.D()))\n",
      "_, newp = w.get_particle(pid)\n",
      "print tuple(newp.position()), w.num_molecules(Species(\"A\"))"
     ],
     "language": "python",
     "metadata": {},
     "outputs": [
      {
       "output_type": "stream",
       "stream": "stdout",
       "text": [
        "(0.5, 1.5, 2.5) 1\n"
       ]
      }
     ],
     "prompt_number": 8
    },
    {
     "cell_type": "markdown",
     "metadata": {},
     "source": [
      "You can remove a `Particle` by `remove_particle`."
     ]
    },
    {
     "cell_type": "code",
     "collapsed": false,
     "input": [
      "w.remove_particle(pid)\n",
      "print w.has_particle(pid)"
     ],
     "language": "python",
     "metadata": {},
     "outputs": [
      {
       "output_type": "stream",
       "stream": "stdout",
       "text": [
        "False\n"
       ]
      }
     ],
     "prompt_number": 9
    },
    {
     "cell_type": "code",
     "collapsed": false,
     "input": [
      "del w"
     ],
     "language": "python",
     "metadata": {},
     "outputs": [],
     "prompt_number": 10
    },
    {
     "cell_type": "markdown",
     "metadata": {},
     "source": [
      "`LatticeSpace` interfaces:"
     ]
    },
    {
     "cell_type": "code",
     "collapsed": false,
     "input": [
      "w = LatticeWorld(edge_lengths)\n",
      "w.bind_to(m)"
     ],
     "language": "python",
     "metadata": {},
     "outputs": [],
     "prompt_number": 11
    },
    {
     "cell_type": "markdown",
     "metadata": {},
     "source": [
      "`LatticeSpace` has interfaces to give essential information about it."
     ]
    },
    {
     "cell_type": "code",
     "collapsed": false,
     "input": [
      "print w.voxel_radius(), w.row_size(), w.col_size(), w.layer_size()"
     ],
     "language": "python",
     "metadata": {},
     "outputs": [
      {
       "output_type": "stream",
       "stream": "stdout",
       "text": [
        "0.01 150 61 115\n"
       ]
      }
     ],
     "prompt_number": 12
    },
    {
     "cell_type": "markdown",
     "metadata": {},
     "source": [
      "Positions in `LatticeSpace` is represented as a single `Integer` named `coordinate`, which is corresponding to `Real3` (`position`) in `ParticleSpace`. `coordinate2position` and `position2coordinate` give the way to convert between them."
     ]
    },
    {
     "cell_type": "code",
     "collapsed": false,
     "input": [
      "coord = w.position2coordinate(Real3(0.5, 0.5, 0.5))\n",
      "pos = w.coordinate2position(coord)\n",
      "new_coord = w.position2coordinate(pos)\n",
      "\n",
      "print coord, tuple(pos)\n",
      "print new_coord, tuple(w.coordinate2position(new_coord))\n",
      "print w.position2coordinate(Real3(0.5, 1.5, 2.5))"
     ],
     "language": "python",
     "metadata": {},
     "outputs": [
      {
       "output_type": "stream",
       "stream": "stdout",
       "text": [
        "260725 (0.48989794855663565, 0.48497422611928565, 0.5)\n",
        "260725 (0.48989794855663565, 0.48497422611928565, 0.5)\n",
        "791525\n"
       ]
      }
     ],
     "prompt_number": 13
    },
    {
     "cell_type": "markdown",
     "metadata": {},
     "source": [
      "Interfaces similar to `ParticleSpace` are available in `LatticeSpace`."
     ]
    },
    {
     "cell_type": "code",
     "collapsed": false,
     "input": [
      "((pid, v), is_succeeded) = w.new_voxel(Species(\"A\"), coord)"
     ],
     "language": "python",
     "metadata": {},
     "outputs": [],
     "prompt_number": 14
    },
    {
     "cell_type": "code",
     "collapsed": false,
     "input": [
      "print pid, v, is_succeeded\n",
      "print w.num_molecules(Species(\"A\"))"
     ],
     "language": "python",
     "metadata": {},
     "outputs": [
      {
       "output_type": "stream",
       "stream": "stdout",
       "text": [
        "<ecell4.core.ParticleID object at 0x7fd889a0ca08> <ecell4.core.Voxel object at 0x7fd889a0ca50> True\n",
        "1\n"
       ]
      }
     ],
     "prompt_number": 15
    },
    {
     "cell_type": "code",
     "collapsed": false,
     "input": [
      "print v.species().serial(), v.coordinate(), v.radius(), v.D()"
     ],
     "language": "python",
     "metadata": {},
     "outputs": [
      {
       "output_type": "stream",
       "stream": "stdout",
       "text": [
        "A 260725 0.0025 1.0\n"
       ]
      }
     ],
     "prompt_number": 16
    },
    {
     "cell_type": "code",
     "collapsed": false,
     "input": [
      "print w.has_particle(pid)\n",
      "print w.list_voxels(Species(\"A\"))\n",
      "print w.get_voxel(pid)"
     ],
     "language": "python",
     "metadata": {},
     "outputs": [
      {
       "output_type": "stream",
       "stream": "stdout",
       "text": [
        "True\n",
        "[(<ecell4.core.ParticleID object at 0x7fd889a0c9d8>, <ecell4.core.Voxel object at 0x7fd889a0ca68>)]\n",
        "(<ecell4.core.ParticleID object at 0x7fd889a0c9d8>, <ecell4.core.Voxel object at 0x7fd889a0c9a8>)\n"
       ]
      }
     ],
     "prompt_number": 17
    },
    {
     "cell_type": "code",
     "collapsed": false,
     "input": [
      "w.update_voxel(pid, Voxel(v.species(), 791525, v.radius(), v.D()))\n",
      "_, newv = w.get_voxel(pid)\n",
      "print newv.coordinate(), w.num_molecules(Species(\"A\"))"
     ],
     "language": "python",
     "metadata": {},
     "outputs": [
      {
       "output_type": "stream",
       "stream": "stdout",
       "text": [
        "791525 1\n"
       ]
      }
     ],
     "prompt_number": 18
    },
    {
     "cell_type": "code",
     "collapsed": false,
     "input": [
      "w.remove_voxel(pid)\n",
      "print w.has_voxel(pid)"
     ],
     "language": "python",
     "metadata": {},
     "outputs": [
      {
       "output_type": "stream",
       "stream": "stdout",
       "text": [
        "False\n"
       ]
      }
     ],
     "prompt_number": 19
    },
    {
     "cell_type": "markdown",
     "metadata": {},
     "source": [
      "`RandomNumberGenerator` interfaces:"
     ]
    },
    {
     "cell_type": "code",
     "collapsed": false,
     "input": [
      "rng1, rng2 = GSLRandomNumberGenerator(), GSLRandomNumberGenerator()\n",
      "rng1.seed(0)\n",
      "rng2.seed(0)\n",
      "print rng1.uniform(0, 1), rng2.uniform(0, 1)\n",
      "print rng1.uniform_int(0, 100), rng2.uniform_int(0, 100)\n",
      "print rng1.gaussian(0.0, 1.0), rng2.gaussian(0.0, 1.0)"
     ],
     "language": "python",
     "metadata": {},
     "outputs": [
      {
       "output_type": "stream",
       "stream": "stdout",
       "text": [
        "0.999741748907 0.999741748907\n",
        "16 16\n",
        "0.133918608119 0.133918608119\n"
       ]
      }
     ],
     "prompt_number": 20
    },
    {
     "cell_type": "markdown",
     "metadata": {},
     "source": [
      "`GillespieWorld`, `LatticeWorld` and `BDWorld` can be constructed with a `GSLRandomNumberGenerator`. `rng()` returns a shared object of `RandomNumberGenerator`. In below, `w.rng()` and `rng1` point the same `RandomNumberGenerator`."
     ]
    },
    {
     "cell_type": "code",
     "collapsed": false,
     "input": [
      "w = GillespieWorld(Real3(1, 1, 1), rng1)\n",
      "# w = BDWorld(Real3(1, 1, 1), rng1)\n",
      "# w = LatticeWorld(Real3(1, 1, 1), 0.05, rng1) # The second argument is voxel_radius."
     ],
     "language": "python",
     "metadata": {},
     "outputs": [],
     "prompt_number": 21
    },
    {
     "cell_type": "code",
     "collapsed": false,
     "input": [
      "print w.rng().uniform(0, 1), rng2.uniform(0, 1), rng1.uniform(0, 1)"
     ],
     "language": "python",
     "metadata": {},
     "outputs": [
      {
       "output_type": "stream",
       "stream": "stdout",
       "text": [
        "0.231656542746 0.231656542746 0.484973614337\n"
       ]
      }
     ],
     "prompt_number": 22
    },
    {
     "cell_type": "code",
     "collapsed": false,
     "input": [
      "del rng1, rng2\n",
      "print w.rng().uniform(0, 1)\n",
      "del w"
     ],
     "language": "python",
     "metadata": {},
     "outputs": [
      {
       "output_type": "stream",
       "stream": "stdout",
       "text": [
        "0.957476956537\n"
       ]
      }
     ],
     "prompt_number": 23
    },
    {
     "cell_type": "code",
     "collapsed": false,
     "input": [],
     "language": "python",
     "metadata": {},
     "outputs": [],
     "prompt_number": 23
    }
   ],
   "metadata": {}
  }
 ]
}