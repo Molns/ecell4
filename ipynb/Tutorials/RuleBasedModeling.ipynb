{
 "metadata": {
  "name": ""
 },
 "nbformat": 3,
 "nbformat_minor": 0,
 "worksheets": [
  {
   "cells": [
    {
     "cell_type": "markdown",
     "metadata": {},
     "source": [
      "# Tutorial 8 (Rule-based Modeling)\n",
      "\n",
      "This is a tutorial for E-Cell4."
     ]
    },
    {
     "cell_type": "code",
     "collapsed": false,
     "input": [
      "from ecell4.core import *"
     ],
     "language": "python",
     "metadata": {},
     "outputs": [],
     "prompt_number": 11
    },
    {
     "cell_type": "code",
     "collapsed": false,
     "input": [
      "sp1 = Species(\"A(b^1).B(b^1)\")\n",
      "sp2 = Species(\"A(b^1).A(b^1)\")\n",
      "print sp1.count(Species(\"A\"))\n",
      "print sp2.count(Species(\"A\"))\n",
      "print sp1.count(Species(\"A(b)\"))\n",
      "print sp1.count(Species(\"_\"))"
     ],
     "language": "python",
     "metadata": {},
     "outputs": [
      {
       "output_type": "stream",
       "stream": "stdout",
       "text": [
        "1\n",
        "2\n",
        "0\n",
        "2\n"
       ]
      }
     ],
     "prompt_number": 12
    },
    {
     "cell_type": "code",
     "collapsed": false,
     "input": [
      "rr1 = create_unbinding_reaction_rule(Species(\"A(b^1).B(b^1)\"), Species(\"A(b)\"), Species(\"B(b)\"), 1.0)\n",
      "rr2 = create_binding_reaction_rule(Species(\"A(b)\"), Species(\"B(b)\"), Species(\"A(b^1).B(b^1)\"), 1.0)\n",
      "print rr1.count([Species(\"A(b^1).B(b^1)\")])\n",
      "print rr1.count([Species(\"A(b^1,c).A(b^2,c^1).B(b^2,c^3).A(b^3,c)\")])\n",
      "print rr2.count([Species(\"A(b,c^1).A(b,c^1)\"), Species(\"B(b,c^1).B(b,c^1)\")])"
     ],
     "language": "python",
     "metadata": {},
     "outputs": [
      {
       "output_type": "stream",
       "stream": "stdout",
       "text": [
        "1\n",
        "1\n",
        "4\n"
       ]
      }
     ],
     "prompt_number": 13
    },
    {
     "cell_type": "code",
     "collapsed": false,
     "input": [
      "print [rr.as_string() for rr in rr1.generate([Species(\"A(b^1).B(b^1)\")])]\n",
      "print [rr.as_string() for rr in rr2.generate([Species(\"A(b,c=u^1).A(b,c=p^1)\"), Species(\"B(b,c=u^1).B(b,c=p^1)\")])]"
     ],
     "language": "python",
     "metadata": {},
     "outputs": [
      {
       "output_type": "stream",
       "stream": "stdout",
       "text": [
        "['A(b^1).B(b^1)>A(b)+B(b)|1']\n",
        "['A(b,c=u^1).A(b,c=p^1)+B(b,c=u^1).B(b,c=p^1)>A(b,c=p^1).A(b^2,c=u^1).B(b^2,c=u^3).B(b,c=p^3)|1', 'A(b,c=u^1).A(b,c=p^1)+B(b,c=u^1).B(b,c=p^1)>A(b,c=p^1).A(b^2,c=u^1).B(b^2,c=p^3).B(b,c=u^3)|1', 'A(b,c=u^1).A(b,c=p^1)+B(b,c=u^1).B(b,c=p^1)>A(b,c=u^1).A(b^2,c=p^1).B(b^2,c=u^3).B(b,c=p^3)|1', 'A(b,c=u^1).A(b,c=p^1)+B(b,c=u^1).B(b,c=p^1)>A(b,c=u^1).A(b^2,c=p^1).B(b^2,c=p^3).B(b,c=u^3)|1']\n"
       ]
      }
     ],
     "prompt_number": 14
    },
    {
     "cell_type": "code",
     "collapsed": false,
     "input": [
      "sp3 = Species(\"_1._1\")\n",
      "print Species(\"A(b^1,c).B(b^1,c^2).A(b,c^2)\").count(sp3)\n",
      "print Species(\"A(b^1,c^3).B(b^1,c^2).A(b,c^2).B(b^3,c)\").count(sp3)"
     ],
     "language": "python",
     "metadata": {},
     "outputs": [
      {
       "output_type": "stream",
       "stream": "stdout",
       "text": [
        "2\n",
        "4\n"
       ]
      }
     ],
     "prompt_number": 15
    },
    {
     "cell_type": "code",
     "collapsed": false,
     "input": [
      "rr3 = create_binding_reaction_rule(Species(\"_1(b)\"), Species(\"_1(b)\"), Species(\"_1(b^1)._1(b^1)\"), 1.0)\n",
      "rr4 = create_unbinding_reaction_rule(Species(\"A(c1=_1,c2=_2)\"), Species(\"B(c=_2)\"), Species(\"C(c=_1)\"), 1.0)\n",
      "print [rr.as_string() for rr in rr3.generate([Species(\"A(b,c=u^1).B(b,c=p^1)\"), Species(\"A(b,c=p^1).B(b,c=u^1)\")])]\n",
      "print [rr.as_string() for rr in rr4.generate([Species(\"A(c1=c12, c2=c13)\")])]\n",
      "print [rr.as_string() for rr in rr4.generate([Species(\"A(c1=c13, c2=c12)\")])]"
     ],
     "language": "python",
     "metadata": {},
     "outputs": [
      {
       "output_type": "stream",
       "stream": "stdout",
       "text": [
        "['A(b,c=u^1).B(b,c=p^1)+A(b,c=p^1).B(b,c=u^1)>A(b^1,c=p^2).A(b^1,c=u^3).B(b,c=p^3).B(b,c=u^2)|1', 'A(b,c=u^1).B(b,c=p^1)+A(b,c=p^1).B(b,c=u^1)>A(b,c=p^1).B(b^2,c=u^1).B(b^2,c=p^3).A(b,c=u^3)|1']\n",
        "['A(c1=c12,c2=c13)>B(c=c13)+C(c=c12)|1']\n",
        "['A(c1=c13,c2=c12)>B(c=c12)+C(c=c13)|1']\n"
       ]
      }
     ],
     "prompt_number": 16
    },
    {
     "cell_type": "code",
     "collapsed": false,
     "input": [
      "rr5 = create_unimolecular_reaction_rule(Species(\"A(p=u^_)\"), Species(\"A(p=p^_)\"), 1.0)\n",
      "print [rr.as_string() for rr in rr5.generate([Species(\"A(p=u^1).KK(b^1)\")])]"
     ],
     "language": "python",
     "metadata": {},
     "outputs": [
      {
       "output_type": "stream",
       "stream": "stdout",
       "text": [
        "['A(p=u^1).KK(b^1)>A(p=p^1).KK(b^1)|1']\n"
       ]
      }
     ],
     "prompt_number": 17
    },
    {
     "cell_type": "code",
     "collapsed": false,
     "input": [],
     "language": "python",
     "metadata": {},
     "outputs": [],
     "prompt_number": 17
    }
   ],
   "metadata": {}
  }
 ]
}