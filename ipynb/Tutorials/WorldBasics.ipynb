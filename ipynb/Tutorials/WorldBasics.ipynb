{
 "metadata": {
  "name": "",
  "signature": "sha256:19879abc0f309d3064d53650272dc0750ea18963e09f97a9b9a638a5fcf9aa26"
 },
 "nbformat": 3,
 "nbformat_minor": 0,
 "worksheets": [
  {
   "cells": [
    {
     "cell_type": "markdown",
     "metadata": {},
     "source": [
      "# Tutorial 3 (World Basics)\n",
      "\n",
      "This is a tutorial for E-Cell4. Here, we explain the basics of `World` classes. In E-Cell4, six types of World classes are offically supported now: `LatticeWorld`, `EGFRDWorld`, `BDWorld`, `MesoscopicWorld`, `GillespieWorld`, and `ODEWorld`. In this section, the common interfaces of these classes are introduced."
     ]
    },
    {
     "cell_type": "markdown",
     "metadata": {},
     "source": [
      "World classes accept different sets of arguments. However, at least, all `World` classes can be instantiated only with their size, named `edge_lengths`. The type of `edge_lengths` is `Real3`, which represents a triplet of `Real`s. In E-Cell4, all 3-dimensional positions are treated as a `Real3`."
     ]
    },
    {
     "cell_type": "code",
     "collapsed": false,
     "input": [
      "from ecell4.core import *\n",
      "from ecell4.gillespie import GillespieWorld\n",
      "from ecell4.ode import ODEWorld\n",
      "from ecell4.lattice import LatticeWorld\n",
      "from ecell4.bd import BDWorld\n",
      "from ecell4.meso import MesoscopicWorld\n",
      "from ecell4.egfrd import EGFRDWorld\n",
      "\n",
      "edge_lengths = Real3(1, 2, 3)\n",
      "w1 = GillespieWorld(edge_lengths)\n",
      "w2 = ODEWorld(edge_lengths)\n",
      "w3 = LatticeWorld(edge_lengths)\n",
      "w4 = BDWorld(edge_lengths)\n",
      "w5 = MesoscopicWorld(edge_lengths)\n",
      "w6 = EGFRDWorld(edge_lengths)"
     ],
     "language": "python",
     "metadata": {},
     "outputs": [],
     "prompt_number": 1
    },
    {
     "cell_type": "markdown",
     "metadata": {},
     "source": [
      "A World has getter methods for the size and volume."
     ]
    },
    {
     "cell_type": "code",
     "collapsed": false,
     "input": [
      "print tuple(w1.edge_lengths()), w1.volume()\n",
      "print tuple(w2.edge_lengths()), w2.volume()\n",
      "print tuple(w3.edge_lengths()), w3.volume()\n",
      "print tuple(w4.edge_lengths()), w4.volume()\n",
      "print tuple(w5.edge_lengths()), w5.volume()\n",
      "print tuple(w6.edge_lengths()), w6.volume()"
     ],
     "language": "python",
     "metadata": {},
     "outputs": [
      {
       "output_type": "stream",
       "stream": "stdout",
       "text": [
        "(1.0, 2.0, 3.0) 6.0\n",
        "(1.0, 2.0, 3.0) 6.0\n",
        "(1.0, 2.0, 3.0) 6.0\n",
        "(1.0, 2.0, 3.0) 6.0\n",
        "(1.0, 2.0, 3.0) 6.0\n",
        "(1.0, 2.0, 3.0) 6.0\n"
       ]
      }
     ],
     "prompt_number": 2
    },
    {
     "cell_type": "markdown",
     "metadata": {},
     "source": [
      "Next, let's add molecules into the World. Here, you must give Species attributed with \"radius\" and \"D\" for EGFRDWorld, BDWorld or LatticeWorld to tell the shape of molecules. Positions of the molecules are randomly determined by the World if needed."
     ]
    },
    {
     "cell_type": "code",
     "collapsed": false,
     "input": [
      "w1.add_molecules(Species(\"A\", \"0.0025\", \"1\"), 10)\n",
      "w2.add_molecules(Species(\"A\", \"0.0025\", \"1\"), 10)\n",
      "w3.add_molecules(Species(\"A\", \"0.0025\", \"1\"), 10)\n",
      "w4.add_molecules(Species(\"A\", \"0.0025\", \"1\"), 10)\n",
      "w5.add_molecules(Species(\"A\", \"0.0025\", \"1\"), 10)\n",
      "w6.add_molecules(Species(\"A\", \"0.0025\", \"1\"), 10)"
     ],
     "language": "python",
     "metadata": {},
     "outputs": [],
     "prompt_number": 3
    },
    {
     "cell_type": "markdown",
     "metadata": {},
     "source": [
      "Once binding a NetworkModel to the World, you don't need to give attributes explicitly. The World will ask attributes to the bound NetworkModel."
     ]
    },
    {
     "cell_type": "code",
     "collapsed": false,
     "input": [
      "m = NetworkModel()\n",
      "m.add_species_attribute(Species(\"A\", \"0.0025\", \"1\"))\n",
      "m.add_species_attribute(Species(\"B\", \"0.0025\", \"1\"))\n",
      "\n",
      "w1.bind_to(m)\n",
      "w2.bind_to(m)\n",
      "w3.bind_to(m)\n",
      "w4.bind_to(m)\n",
      "w5.bind_to(m)\n",
      "w6.bind_to(m)\n",
      "w1.add_molecules(Species(\"B\"), 20)\n",
      "w2.add_molecules(Species(\"B\"), 20)\n",
      "w3.add_molecules(Species(\"B\"), 20)\n",
      "w4.add_molecules(Species(\"B\"), 20)\n",
      "w5.add_molecules(Species(\"B\"), 20)\n",
      "w6.add_molecules(Species(\"B\"), 20)"
     ],
     "language": "python",
     "metadata": {},
     "outputs": [],
     "prompt_number": 4
    },
    {
     "cell_type": "markdown",
     "metadata": {},
     "source": [
      "Similarly, remove_molecules and num_molecules are also available."
     ]
    },
    {
     "cell_type": "code",
     "collapsed": false,
     "input": [
      "w1.remove_molecules(Species(\"B\"), 5)\n",
      "w2.remove_molecules(Species(\"B\"), 5)\n",
      "w3.remove_molecules(Species(\"B\"), 5)\n",
      "w4.remove_molecules(Species(\"B\"), 5)\n",
      "w5.remove_molecules(Species(\"B\"), 5)\n",
      "w6.remove_molecules(Species(\"B\"), 5)"
     ],
     "language": "python",
     "metadata": {},
     "outputs": [],
     "prompt_number": 5
    },
    {
     "cell_type": "code",
     "collapsed": false,
     "input": [
      "print w1.num_molecules(Species(\"A\")), w2.num_molecules(Species(\"A\")), w3.num_molecules(Species(\"A\")), w4.num_molecules(Species(\"A\")), w5.num_molecules(Species(\"A\")), w6.num_molecules(Species(\"A\"))\n",
      "print w1.num_molecules(Species(\"B\")), w2.num_molecules(Species(\"B\")), w3.num_molecules(Species(\"B\")), w4.num_molecules(Species(\"B\")), w5.num_molecules(Species(\"B\")), w6.num_molecules(Species(\"B\"))"
     ],
     "language": "python",
     "metadata": {},
     "outputs": [
      {
       "output_type": "stream",
       "stream": "stdout",
       "text": [
        "10 10 10 10 10 10\n",
        "15 15 15 15 15 15\n"
       ]
      }
     ],
     "prompt_number": 6
    },
    {
     "cell_type": "markdown",
     "metadata": {},
     "source": [
      "World class also owns a simulation time."
     ]
    },
    {
     "cell_type": "code",
     "collapsed": false,
     "input": [
      "print w1.t(), w2.t(), w3.t(), w4.t(), w5.t(), w6.t()\n",
      "w1.set_t(1.0)\n",
      "w2.set_t(1.0)\n",
      "w3.set_t(1.0)\n",
      "w4.set_t(1.0)\n",
      "w5.set_t(1.0)\n",
      "w6.set_t(1.0)\n",
      "print w1.t(), w2.t(), w3.t(), w4.t(), w5.t(), w6.t()"
     ],
     "language": "python",
     "metadata": {},
     "outputs": [
      {
       "output_type": "stream",
       "stream": "stdout",
       "text": [
        "0.0 0.0 0.0 0.0 0.0 0.0\n",
        "1.0 1.0 1.0 1.0 1.0 1.0\n"
       ]
      }
     ],
     "prompt_number": 7
    },
    {
     "cell_type": "markdown",
     "metadata": {},
     "source": [
      "Finally, you can save/load the state of a World into/from a HDF5 file."
     ]
    },
    {
     "cell_type": "code",
     "collapsed": false,
     "input": [
      "w1.save(\"gillespie.h5\")\n",
      "w2.save(\"ode.h5\")\n",
      "w3.save(\"lattice.h5\")\n",
      "w4.save(\"bd.h5\")\n",
      "w5.save(\"meso.h5\")\n",
      "w6.save(\"egfrd.h5\")\n",
      "del w1, w2, w3, w4, w5, w6"
     ],
     "language": "python",
     "metadata": {},
     "outputs": [],
     "prompt_number": 8
    },
    {
     "cell_type": "code",
     "collapsed": false,
     "input": [
      "w1 = GillespieWorld()\n",
      "w2 = ODEWorld()\n",
      "w3 = LatticeWorld()\n",
      "w4 = BDWorld()\n",
      "w5 = MesoscopicWorld()\n",
      "w6 = EGFRDWorld()\n",
      "print w1.t(), tuple(w1.edge_lengths()), w1.volume(), w1.num_molecules(Species(\"A\")), w1.num_molecules(Species(\"B\"))\n",
      "print w2.t(), tuple(w2.edge_lengths()), w2.volume(), w2.num_molecules(Species(\"A\")), w2.num_molecules(Species(\"B\"))\n",
      "print w3.t(), tuple(w3.edge_lengths()), w3.volume(), w3.num_molecules(Species(\"A\")), w3.num_molecules(Species(\"B\"))\n",
      "print w4.t(), tuple(w4.edge_lengths()), w4.volume(), w4.num_molecules(Species(\"A\")), w4.num_molecules(Species(\"B\"))\n",
      "print w5.t(), tuple(w5.edge_lengths()), w5.volume(), w5.num_molecules(Species(\"A\")), w5.num_molecules(Species(\"B\"))\n",
      "print w6.t(), tuple(w6.edge_lengths()), w6.volume(), w6.num_molecules(Species(\"A\")), w6.num_molecules(Species(\"B\"))"
     ],
     "language": "python",
     "metadata": {},
     "outputs": [
      {
       "output_type": "stream",
       "stream": "stdout",
       "text": [
        "0.0 (1.0, 1.0, 1.0) 1.0 0 0\n",
        "0.0 (1.0, 1.0, 1.0) 1.0 0 0\n",
        "0.0 (1.0, 1.0, 1.0) 1.0 0 0\n",
        "0.0 (1.0, 1.0, 1.0) 1.0 0 0\n",
        "0.0 (1.0, 1.0, 1.0) 1.0 0 0\n",
        "0.0 (1.0, 1.0, 1.0) 1.0 0 0\n"
       ]
      }
     ],
     "prompt_number": 9
    },
    {
     "cell_type": "code",
     "collapsed": false,
     "input": [
      "w1.load(\"gillespie.h5\")\n",
      "w2.load(\"ode.h5\")\n",
      "w3.load(\"lattice.h5\")\n",
      "w4.load(\"bd.h5\")\n",
      "w5.load(\"meso.h5\")\n",
      "w6.load(\"egfrd.h5\")\n",
      "print w1.t(), tuple(w1.edge_lengths()), w1.volume(), w1.num_molecules(Species(\"A\")), w1.num_molecules(Species(\"B\"))\n",
      "print w2.t(), tuple(w2.edge_lengths()), w2.volume(), w2.num_molecules(Species(\"A\")), w2.num_molecules(Species(\"B\"))\n",
      "print w3.t(), tuple(w3.edge_lengths()), w3.volume(), w3.num_molecules(Species(\"A\")), w3.num_molecules(Species(\"B\"))\n",
      "print w4.t(), tuple(w4.edge_lengths()), w4.volume(), w4.num_molecules(Species(\"A\")), w4.num_molecules(Species(\"B\"))\n",
      "print w5.t(), tuple(w5.edge_lengths()), w5.volume(), w5.num_molecules(Species(\"A\")), w5.num_molecules(Species(\"B\"))\n",
      "print w6.t(), tuple(w6.edge_lengths()), w6.volume(), w6.num_molecules(Species(\"A\")), w6.num_molecules(Species(\"B\"))\n",
      "del w1\n",
      "del w2\n",
      "del w3\n",
      "del w4\n",
      "del w5\n",
      "del w6"
     ],
     "language": "python",
     "metadata": {},
     "outputs": [
      {
       "output_type": "stream",
       "stream": "stdout",
       "text": [
        "1.0 (1.0, 2.0, 3.0) 6.0 10 15\n",
        "1.0 (1.0, 2.0, 3.0) 6.0 10 15\n",
        "1.0 (1.0, 2.0, 3.0) 6.0 10 15\n",
        "1.0 (1.0, 2.0, 3.0) 6.0 10 15\n",
        "1.0 (1.0, 2.0, 3.0) 6.0 10 15\n",
        "1.0 (1.0, 2.0, 3.0) 6.0 10 15\n"
       ]
      }
     ],
     "prompt_number": 10
    },
    {
     "cell_type": "code",
     "collapsed": false,
     "input": [
      "print GillespieWorld(\"gillespie.h5\").t()\n",
      "print ODEWorld(\"ode.h5\").t()\n",
      "print LatticeWorld(\"lattice.h5\").t()\n",
      "print BDWorld(\"bd.h5\").t()\n",
      "print MesoscopicWorld(\"meso.h5\").t()\n",
      "print EGFRDWorld(\"egfrd.h5\").t()"
     ],
     "language": "python",
     "metadata": {},
     "outputs": [
      {
       "output_type": "stream",
       "stream": "stdout",
       "text": [
        "1.0\n",
        "1.0\n",
        "1.0"
       ]
      },
      {
       "output_type": "stream",
       "stream": "stdout",
       "text": [
        "\n",
        "1.0\n",
        "1.0\n",
        "1.0\n"
       ]
      }
     ],
     "prompt_number": 11
    },
    {
     "cell_type": "code",
     "collapsed": false,
     "input": [],
     "language": "python",
     "metadata": {},
     "outputs": [],
     "prompt_number": 11
    }
   ],
   "metadata": {}
  }
 ]
}