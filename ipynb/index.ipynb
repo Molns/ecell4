{
 "metadata": {
  "name": "",
  "signature": "sha256:0e78230db18f1c8a9f68abfcd4153d6b82990c06b0ec3f83ccbad90f141a6580"
 },
 "nbformat": 3,
 "nbformat_minor": 0,
 "worksheets": [
  {
   "cells": [
    {
     "cell_type": "markdown",
     "metadata": {},
     "source": [
      "<div>\n",
      "<img src=\"http://dev.e-cell.org/ecell-logo-with-title.png\">\n",
      "</div>"
     ]
    },
    {
     "cell_type": "markdown",
     "metadata": {},
     "source": [
      "Welcome to [E-Cell4](https://github.com/ecell/ecell4) in IPython Notebook!\n",
      "\n",
      "E-Cell System, a software platform for modeling, simulation and analysis of complex, heterogeneous and multi-scale systems like the cell."
     ]
    },
    {
     "cell_type": "heading",
     "level": 1,
     "metadata": {},
     "source": [
      "Content"
     ]
    },
    {
     "cell_type": "heading",
     "level": 2,
     "metadata": {},
     "source": [
      "Tutorial"
     ]
    },
    {
     "cell_type": "markdown",
     "metadata": {},
     "source": [
      "The Tutorial is divided in three sections: Basic, Topical and Advanced exercises.\n",
      "Each section contains several IPython notebooks with different exercises. \n",
      "\n",
      "Get started with E-Cell4 by going through the tutorial."
     ]
    },
    {
     "cell_type": "heading",
     "level": 3,
     "metadata": {},
     "source": [
      "Basic Exercises"
     ]
    },
    {
     "cell_type": "markdown",
     "metadata": {},
     "source": [
      "- [Species Basics](Tutorials/SpeciesBasics.ipynb)\n",
      "- [Model Basics](Tutorials/ModelBasics.ipynb)\n",
      "- [World Basics](Tutorials/WorldBasics.ipynb)"
     ]
    },
    {
     "cell_type": "heading",
     "level": 3,
     "metadata": {},
     "source": [
      "Topical Exercises"
     ]
    },
    {
     "cell_type": "markdown",
     "metadata": {},
     "source": [
      "- [Simulator](Tutorials/Simulator.ipynb)\n",
      "- [Visualizer](Tutorials/Visualizer.ipynb)"
     ]
    },
    {
     "cell_type": "heading",
     "level": 3,
     "metadata": {},
     "source": [
      "Advanced Exercises"
     ]
    },
    {
     "cell_type": "markdown",
     "metadata": {},
     "source": [
      "- [Simple equilibrium model](Tutorials/SimpleEquilibrium.ipynb)\n",
      "- [World Advanced](Tutorials/WorldAdvanced.ipynb)\n",
      "- [Model Advanced](Tutorials/ModelAdvanced.ipynb)\n",
      "- [Rule-based Modeling](Tutorials/RuleBasedModeling.ipynb)"
     ]
    },
    {
     "cell_type": "markdown",
     "metadata": {},
     "source": [
      "<script>\n",
      "  (function(i,s,o,g,r,a,m){i['GoogleAnalyticsObject']=r;i[r]=i[r]||function(){\n",
      "  (i[r].q=i[r].q||[]).push(arguments)},i[r].l=1*new Date();a=s.createElement(o),\n",
      "  m=s.getElementsByTagName(o)[0];a.async=1;a.src=g;m.parentNode.insertBefore(a,m)\n",
      "  })(window,document,'script','//www.google-analytics.com/analytics.js','ga');\n",
      "\n",
      "  ga('create', 'UA-27761864-9', 'auto');\n",
      "  ga('send', 'pageview');\n",
      "</script>"
     ]
    }
   ],
   "metadata": {}
  }
 ]
}